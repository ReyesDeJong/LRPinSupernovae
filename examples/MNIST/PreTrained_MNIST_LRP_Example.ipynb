{
 "cells": [
  {
   "cell_type": "markdown",
   "metadata": {},
   "source": [
    "# LRP over MNIST"
   ]
  },
  {
   "cell_type": "markdown",
   "metadata": {},
   "source": [
    "#### Imports"
   ]
  },
  {
   "cell_type": "code",
   "execution_count": 1,
   "metadata": {},
   "outputs": [],
   "source": [
    "#python 2 and 3 comptibility\n",
    "from __future__ import absolute_import\n",
    "from __future__ import division\n",
    "from __future__ import print_function\n",
    "\n",
    "#enables acces to parent folder\n",
    "import os\n",
    "import sys\n",
    "sys.path.append(\"../..\")\n",
    "\n",
    "#other imports\n",
    "import matplotlib.pyplot as plt\n",
    "import tensorflow as tf\n",
    "import numpy as np\n",
    "\n",
    "#MNIST import\n",
    "from tensorflow.examples.tutorials.mnist import input_data\n",
    "\n",
    "#modules import\n",
    "import modules.sequential32 as sequential32\n",
    "import modules.linear32 as linear32\n",
    "import modules.convolution32 as convolution32\n",
    "import modules.maxpool32 as maxpool32\n",
    "import modules.avgpool32 as avgpool32\n",
    "from modules.heatmap import plot_relevances\n",
    "import modules.utils as utils\n",
    "\n",
    "\n",
    "#print of plots within notebook\n",
    "%matplotlib inline"
   ]
  },
  {
   "cell_type": "markdown",
   "metadata": {},
   "source": [
    "#### Execute if MNIST haven't been downladed\n",
    "MNIST dataset weights approx. 12 MB. If it isn't previously downloaded on directory 'data/MNIST', it will be automatically downladed with next code cell."
   ]
  },
  {
   "cell_type": "code",
   "execution_count": 2,
   "metadata": {},
   "outputs": [
    {
     "name": "stdout",
     "output_type": "stream",
     "text": [
      "Successfully downloaded train-images-idx3-ubyte.gz 9912422 bytes.\n",
      "Extracting data/MNIST/train-images-idx3-ubyte.gz\n",
      "Successfully downloaded train-labels-idx1-ubyte.gz 28881 bytes.\n",
      "Extracting data/MNIST/train-labels-idx1-ubyte.gz\n",
      "Successfully downloaded t10k-images-idx3-ubyte.gz 1648877 bytes.\n",
      "Extracting data/MNIST/t10k-images-idx3-ubyte.gz\n",
      "Successfully downloaded t10k-labels-idx1-ubyte.gz 4542 bytes.\n",
      "Extracting data/MNIST/t10k-labels-idx1-ubyte.gz\n"
     ]
    }
   ],
   "source": [
    "data = input_data.read_data_sets('data/MNIST/', one_hot=True)"
   ]
  },
  {
   "cell_type": "markdown",
   "metadata": {},
   "source": [
    "#### Alternatively you can give a path to previously downloaded MNIST\n",
    "[only execute if previous cell wasn't]"
   ]
  },
  {
   "cell_type": "code",
   "execution_count": 2,
   "metadata": {},
   "outputs": [
    {
     "name": "stdout",
     "output_type": "stream",
     "text": [
      "Extracting /home/tesla/Desktop/MNIST_data/data/train-images-idx3-ubyte.gz\n",
      "Extracting /home/tesla/Desktop/MNIST_data/data/train-labels-idx1-ubyte.gz\n",
      "Extracting /home/tesla/Desktop/MNIST_data/data/t10k-images-idx3-ubyte.gz\n",
      "Extracting /home/tesla/Desktop/MNIST_data/data/t10k-labels-idx1-ubyte.gz\n"
     ]
    }
   ],
   "source": [
    "#MNIST path\n",
    "from tensorflow.examples.tutorials.mnist import input_data\n",
    "data_dir = '/home/tesla/Desktop/MNIST_data/data'\n",
    "data = input_data.read_data_sets(data_dir, one_hot=True)"
   ]
  },
  {
   "cell_type": "markdown",
   "metadata": {},
   "source": [
    "#### Print set lenghts"
   ]
  },
  {
   "cell_type": "code",
   "execution_count": 19,
   "metadata": {},
   "outputs": [
    {
     "name": "stdout",
     "output_type": "stream",
     "text": [
      "Number of sample in each set of MNIST:\n",
      "Training-set:\t\t55000\n",
      "Test-set:\t\t10000\n"
     ]
    }
   ],
   "source": [
    "print(\"Number of sample in each set of MNIST:\")\n",
    "print(\"Training-set:\\t\\t{}\".format(len(data.train.labels)))\n",
    "print(\"Test-set:\\t\\t{}\".format(len(data.test.labels)))"
   ]
  },
  {
   "cell_type": "markdown",
   "metadata": {},
   "source": [
    "#### Instantiatite network model\n",
    "\n",
    "This consider a pretreined model. To be loaded, weights must be in a 'weights_MNIST_MaxPool/' folder, relative to this notebook."
   ]
  },
  {
   "cell_type": "code",
   "execution_count": 3,
   "metadata": {},
   "outputs": [],
   "source": [
    "path_weights = 'weights_MNIST_MaxPool/'\n",
    "def nn():\n",
    "    return sequential32.Sequential([convolution32.Convolution(kernel_size=5, output_depth=32, input_depth=1,\n",
    "                                   input_dim=28, act ='relu',\n",
    "                                   stride_size=1, pad='SAME', param_dir=path_weights+'CNN1'),\n",
    "                       maxpool32.MaxPool(),\n",
    "\n",
    "                       convolution32.Convolution(kernel_size=5,output_depth=64, stride_size=1,\n",
    "                                   act ='relu', pad='SAME', param_dir=path_weights+'CNN2'),\n",
    "                       maxpool32.MaxPool(),\n",
    "                       \n",
    "                       linear32.Linear(1024, act ='relu', param_dir=path_weights+'FC1'),\n",
    "\n",
    "                       linear32.Linear(10, act ='linear', param_dir=path_weights+'FC2')])"
   ]
  },
  {
   "cell_type": "markdown",
   "metadata": {},
   "source": [
    "#### Model I/O"
   ]
  },
  {
   "cell_type": "code",
   "execution_count": 11,
   "metadata": {},
   "outputs": [
    {
     "name": "stdout",
     "output_type": "stream",
     "text": [
      "Forward Pass ... \n",
      "------------------------------------------------- \n",
      "input:: [None, 28, 28, 1]\n",
      "conv2d_22:: [None, 28, 28, 32]\n",
      "maxpool_23:: [None, 14, 14, 32]\n",
      "conv2d_24:: [None, 14, 14, 64]\n",
      "maxpool_25:: [None, 7, 7, 64]\n",
      "linear_26:: [None, 1024]\n",
      "linear_27:: [None, 10]\n",
      "softmax:: [None, 10]\n",
      "\n",
      "------------------------------------------------- \n"
     ]
    }
   ],
   "source": [
    "#Dropout placeholder\n",
    "keep_prob = tf.placeholder(tf.float32, name='keep-prob')\n",
    "\n",
    "#Input place holders\n",
    "with tf.name_scope('input'):\n",
    "        #stetched image\n",
    "        x = tf.placeholder(tf.float32, [None, 784], name='x-input')\n",
    "        #target label\n",
    "        y_ = tf.placeholder(tf.float32, [None, 10], name='y-input')\n",
    "  \n",
    "        #reshape input as image tensor with an undifined batch size (-1)\n",
    "        inp = tf.reshape(x, [-1, 28, 28, 1])\n",
    "\n",
    "#Model instance\n",
    "with tf.variable_scope('model'):\n",
    "        #instanciate model\n",
    "        net = nn()\n",
    "\n",
    "        #feed-forward method and get score output. This iterates through layer in net object of class Sequiential\n",
    "        score = net.forward(inp)\n",
    "\n",
    "        #pass scores through softmax for network output ([0,1] probability)   \n",
    "        y = tf.nn.softmax(score)\n",
    "\n",
    "        #predicted classes\n",
    "        y_pred_cls = tf.argmax(y, 1)\n",
    "\n",
    "        #true classes\n",
    "        y_true_cls = tf.argmax(y_, 1)"
   ]
  },
  {
   "cell_type": "markdown",
   "metadata": {},
   "source": [
    "#### Accuracy measurement"
   ]
  },
  {
   "cell_type": "code",
   "execution_count": 13,
   "metadata": {},
   "outputs": [],
   "source": [
    "with tf.name_scope('accuracy'):  \n",
    "        #performance measures\n",
    "\n",
    "        #compare predictions\n",
    "        with tf.name_scope('correct_prediction'):\n",
    "            correct_prediction = tf.equal(y_pred_cls, y_true_cls)\n",
    "        #get accuracy\n",
    "        with tf.name_scope('accuracy'):\n",
    "            accuracy = tf.reduce_mean(tf.cast(correct_prediction, tf.float32))\n",
    "        \n",
    "accuracy_sum = tf.summary.scalar('accuracy', accuracy)"
   ]
  },
  {
   "cell_type": "markdown",
   "metadata": {},
   "source": [
    "#### Selection of class to be propagated\n",
    "In this section we consider that network's raw output scores (output right before softmax layer) is propagated with LRP.\n",
    "\n",
    "Whole output scores can be propagated, to see contribution from each class to the relevance heatmap at input, or just a single class output score can be propagated to know which input pixels are relevant to that class. This last option means to leave class score index value and every other value of the output score vector as 0. \n",
    "    \n",
    "Mainly, there are 3 LRP propagation options:\n",
    "1. Propagate full output score of the network which means that input heatmap will have negative and positive contributions from all classes \n",
    "2. Propagate predictied score, which will generate a heatmap with predicted class specific relevance. This means that the heatmap will depict which pixels are important for the classification made.\n",
    "3. When the model missclassifies you can propagate true class score, and heatmap genereted will show in blue which pixels lower the classification score to that output.\n",
    "\n",
    "Alternatively, softmax output can be LRP back propagated, but there is no consensus on what value should be propagated, a draw back of prapagating softmax is that negative score are turned to positive.\n"
   ]
  },
  {
   "cell_type": "code",
   "execution_count": 18,
   "metadata": {},
   "outputs": [],
   "source": [
    "with tf.variable_scope('output_relevance'):\n",
    "    \n",
    "        #mask for predicted classes LRP\n",
    "        y_pred_OH = tf.one_hot(indices=y_pred_cls, depth=10)\n",
    "        #model prediction output_relevance\n",
    "        y_rel_pred=score*y_pred_OH\n",
    "        \n",
    "        #true class output_relevance\n",
    "        y_rel_true=score*tf.to_float(y_true_cls)\n",
    "        \n",
    "        #with this variable we can choose to propagate predicted score as 'y_rel_pred',\n",
    "        #true class score as 'y_rel_true' or just the whole output score as 'score'\n",
    "        y_rel_model=y_rel_pred\n",
    "        \n",
    "        #To LRP backpropagate softmax aoutput, simply replace 'score' variable by 'y' "
   ]
  },
  {
   "cell_type": "markdown",
   "metadata": {},
   "source": [
    "### Set LRP parameters\n",
    "\n",
    "Here LRP parameters can be chosen, such as propagation rule that can be:\n",
    "\n",
    "1. $\\epsilon$\n",
    "2. $\\alpha \\beta$\n",
    "\n",
    "And asociated parameters of propagation.\n",
    "\n",
    "#### Epsilon rule\n",
    "\n",
    "This propagation rule tries to directly propagate relevance to previous layer by using simple propagation rule as:\n",
    "\n",
    "\\begin{equation}\n",
    "R_{i\\leftarrow j}^{(l,l+1)}=\\frac{z_{ij}}{z_j}R_j^{(l+1)}.\n",
    "\\label{eq:prop_rule}\n",
    "\\end{equation}\n",
    "\n",
    "But numerical insteabilities take place due $z_j$ taking very small values that can be round to 0. So an stibilizer term $\\epsilon$ is introduced, thus the $\\epsilon$-rule equation is:\n",
    "\n",
    "\\begin{equation}\n",
    "R_{i\\leftarrow j}^{(l,l+1)}=\\frac{z_{ij}}{z_j+\\epsilon \\, sign(z_j)}R_j^{(l+1)}.\n",
    "\\label{eq:prop_rule_e}\n",
    "\\end{equation}\n",
    "\n",
    "\n",
    "Where $\\epsilon$ should take small values (ex: $10^{-12}$) to not interfere with relevance propagated.\n",
    "#### Alpha-beta rule\n",
    "\n",
    "This propagation rule separates calculation of positive from negative relevance, and adds them together at the end. Because of this separation of positive and negative values, numerical inestabilities rarely happen and we can avoid the stabilizer term intriduced above, thus having a propagation rule that sticks with the layer-wise conservation principle of LRP. Its equation corresponds to:\n",
    "\n",
    "\\begin{equation}\n",
    "R_{i\\leftarrow j}^{(l,l+1)}=\\left(\\alpha\\,\\frac{z_{ij}^+}{z_j^+}+\\beta\\,\\frac{z_{ij}^-}{z_j^-}\\right)R_j^{(l+1)}.\n",
    "\\label{eq:prop_rule_ab}\n",
    "\\end{equation}\n",
    "\n",
    "where $ \\alpha+\\beta = 1 $\n",
    "\n",
    "When choosing $\\alpha=1$ and $\\beta=0$ we have the LRP-$\\alpha_1\\beta_0$ rule that __only__ propagates positive relevances to the input.\n",
    "\n",
    "This rule is implemented by choosing $\\alpha$ value, and $\\beta=1-\\alpha$ value. "
   ]
  },
  {
   "cell_type": "code",
   "execution_count": 24,
   "metadata": {},
   "outputs": [
    {
     "name": "stdout",
     "output_type": "stream",
     "text": [
      "Computing LRP ... \n",
      "------------------------------------------------- \n",
      "linear_27:: [None, 1024]\n",
      "linear_26:: [None, 3136]\n",
      "maxpool_25:: [None, 14, 14, 64]\n",
      "conv2d_24:: [None, 14, 14, 32]\n",
      "maxpool_23:: [None, 28, 28, 32]\n",
      "conv2d_22:: [None, 28, 28, 1]\n",
      "\n",
      "------------------------------------------------- \n"
     ]
    }
   ],
   "source": [
    "\n",
    "with tf.variable_scope('relevance'):\n",
    "\n",
    "    \n",
    "        #alpha-beta LRP\n",
    "        relevance_method_ab='alphabeta'\n",
    "\n",
    "        #alpha:1 - beta:0\n",
    "        relevance_param_a1b0 = 1\n",
    "        #alpha: 2 - beta:-1\n",
    "        relevance_param_a2b1 = 2\n",
    "        \n",
    "        #epsilon LRP\n",
    "        relevance_method_e='epsilon'\n",
    "        \n",
    "        #epsilon:1e-12\n",
    "        relevance_param_e012 = 1e-12\n",
    "        #epsilon:0.01\n",
    "        relevance_param_e01 = 0.01\n",
    "        #epsilon:1\n",
    "        relevance_param_e1 = 1\n",
    "        #epsilon:100\n",
    "        relevance_param_e100 = 100\n",
    "        \n",
    "        #choose propagation rule that will take place\n",
    "        #LRPa1b0 = net.lrp(y_rel_model, relevance_method_ab, relevance_param_a1b0)\n",
    "        LRPa2b1 = net.lrp(y_rel_model, relevance_method_ab, relevance_param_a2b1)\n",
    "        \n",
    "        #LRPe012 = net.lrp(y_rel_model, relevance_method_e, relevance_param_e012)\n",
    "        #LRPe01 = net.lrp(y_rel_model, relevance_method_e, relevance_param_e01)\n",
    "        #LRPe1 = net.lrp(y_rel_model, relevance_method_e, relevance_param_e1)\n",
    "        #LRPe100 = net.lrp(y_rel_model, relevance_method_e, relevance_param_e100)\n"
   ]
  },
  {
   "cell_type": "markdown",
   "metadata": {},
   "source": [
    "#### Init Tensorflow session and variables"
   ]
  },
  {
   "cell_type": "code",
   "execution_count": 25,
   "metadata": {},
   "outputs": [],
   "source": [
    "config = tf.ConfigProto(allow_soft_placement = True)\n",
    "config.gpu_options.allow_growth = True\n",
    "sess = tf.Session(config=config)\n",
    "sess.run(tf.global_variables_initializer())"
   ]
  },
  {
   "cell_type": "markdown",
   "metadata": {},
   "source": [
    "#### Functions to feed model with data\n",
    "Generates proper functions to construct dictionary that will be feed to model graph. Define batch, labels and dropout.\n",
    "\n",
    "There is the option to feed the model with a batch of MNIST, or feed it with a ten digits example.\n",
    "\n",
    "__Remember:__ Images pixels are 0 centered in values [-1,1]"
   ]
  },
  {
   "cell_type": "code",
   "execution_count": 26,
   "metadata": {},
   "outputs": [],
   "source": [
    "##Get MNIST Data to feed model. You can choose to feed a train batch or the whole test set \n",
    "def feed_dict(mnist, train, batch_s=None):\n",
    "    if train:\n",
    "        xs, ys = mnist.train.next_batch(batch_s)\n",
    "        k = dropout\n",
    "    else:\n",
    "        xs, ys = mnist.test.images, mnist.test.labels\n",
    "        k = 1.0\n",
    "    return (2*xs)-1, ys, k\n",
    "    \n",
    "##Get certain data examples to feed model\n",
    "def feed_dictEx():\n",
    "    xs = np.load('numbers_images/numbers_examples.npy')\n",
    "    #construct one hot labels\n",
    "    a = np.array([0,1,2,3,4,5,6,7,8,9])\n",
    "    b = np.zeros((10, 10))\n",
    "    b[np.arange(10), a] = 1\n",
    "    ys=b\n",
    "    #dropour\n",
    "    k = 1.0\n",
    "    return xs, ys, k"
   ]
  },
  {
   "cell_type": "markdown",
   "metadata": {},
   "source": [
    "#### Check accuracy of the pre-trained model\n",
    "In this block of code whole test set images and labels will be loaded to memory, so if you don't have much RAM only skip next block (around 8GB of RAM are needed)."
   ]
  },
  {
   "cell_type": "code",
   "execution_count": 30,
   "metadata": {},
   "outputs": [
    {
     "name": "stdout",
     "output_type": "stream",
     "text": [
      "Accuracy on Test-Set: 99.3% (9926 / 10000)\n"
     ]
    }
   ],
   "source": [
    "#get test set\n",
    "d_t = feed_dict(data, train=False)\n",
    "#create dictionary\n",
    "inp_t = {x:d_t[0], y_:d_t[1], keep_prob:d_t[2]}\n",
    "#get accuracy\n",
    "acc = sess.run(accuracy, feed_dict=inp_t)\n",
    "\n",
    "#print accuracy\n",
    "num_test = len(data.test.images)\n",
    "correct_sum = int(acc*num_test)\n",
    "msg = \"Accuracy on Test-Set: {0:.1%} ({1} / {2})\"\n",
    "print(msg.format(acc, correct_sum, num_test))"
   ]
  },
  {
   "cell_type": "markdown",
   "metadata": {
    "collapsed": true
   },
   "source": [
    "#### Show numbers to test LRP\n",
    "example number will be ploted"
   ]
  },
  {
   "cell_type": "code",
   "execution_count": 31,
   "metadata": {},
   "outputs": [
    {
     "name": "stdout",
     "output_type": "stream",
     "text": [
      "Predicted classes for examples:\n",
      " [0 1 2 3 4 5 6 7 8 9]\n"
     ]
    },
    {
     "data": {
      "image/png": "[encoded data removed]",
      "text/plain": [
       "<matplotlib.figure.Figure at 0x7f92ce7da0d0>"
      ]
     },
     "metadata": {},
     "output_type": "display_data"
    }
   ],
   "source": [
    "d_ex = feed_dictEx()\n",
    "inp_ex = {x:d_ex[0], y_:d_ex[1], keep_prob:d_ex[2]}\n",
    "\n",
    "predEx = sess.run(y_pred_cls, feed_dict=inp_ex)\n",
    "print(\"Predicted classes for examples:\\n\", predEx)\n",
    "\n",
    "utils.showExamples(d_ex[0])"
   ]
  },
  {
   "cell_type": "markdown",
   "metadata": {},
   "source": [
    "## LRP Examples\n",
    "\n",
    "Lets take arbitrary numbers 2,3,4,7 to perform LRP, and define a function to plot them"
   ]
  },
  {
   "cell_type": "code",
   "execution_count": 38,
   "metadata": {},
   "outputs": [],
   "source": [
    "inp_param = {x:d_ex[0][[2,3,4,7],:], y_:d_ex[1][[2,3,4,7],:], keep_prob:d_ex[2]}\n",
    "\n",
    "#function to plot MNISt (28x28, single channel image) LRP\n",
    "def plotLRP(rel, samples, titles, prop=None, show_prop=False):\n",
    "    numberOfExamples=samples.shape[0]\n",
    "    numbers = samples.reshape([numberOfExamples,28,28,1])\n",
    "    numbers = (numbers + 1)/2.0\n",
    "    cols=len(rel)\n",
    "    \n",
    "    for j in range(numberOfExamples):\n",
    "        fig, ax = plt.subplots(nrows=1, ncols=cols)\n",
    "        for i in range(cols):\n",
    "            relevance = rel[i]#[0:numberOfExamples,2:30,2:30,0]\n",
    "            img_sum=plot_relevances(relevance.reshape([numberOfExamples,28,28,1]), numbers)\n",
    "            plt.subplot(1, cols, i+1)\n",
    "            plt.imshow(img_sum[j,:,:,:], interpolation='nearest')\n",
    "            plt.axis('off')\n",
    "            plt.title(titles[i])\n",
    "        if(show_prop):\n",
    "            print(\"Propagated class:\", prop[j])\n",
    "        plt.show()"
   ]
  },
  {
   "cell_type": "markdown",
   "metadata": {},
   "source": [
    "##### Alpha-Beta \n",
    "\n",
    "LRP-$\\alpha_2\\beta_1$ parameters will be considered (You can define any rule and parameters in **_Set LRP parameters_** section) "
   ]
  },
  {
   "cell_type": "code",
   "execution_count": 40,
   "metadata": {
    "scrolled": false
   },
   "outputs": [
    {
     "data": {
      "image/png": "[encoded data removed]",
      "text/plain": [
       "<matplotlib.figure.Figure at 0x7f9296dc4bd0>"
      ]
     },
     "metadata": {},
     "output_type": "display_data"
    },
    {
     "data": {
      "image/png": "[encoded data removed]",
      "text/plain": [
       "<matplotlib.figure.Figure at 0x7f928afeef90>"
      ]
     },
     "metadata": {},
     "output_type": "display_data"
    },
    {
     "data": {
      "image/png": "[encoded data removed]",
      "text/plain": [
       "<matplotlib.figure.Figure at 0x7f928b181e90>"
      ]
     },
     "metadata": {},
     "output_type": "display_data"
    },
    {
     "data": {
      "image/png": "[encoded data removed]",
      "text/plain": [
       "<matplotlib.figure.Figure at 0x7f928b25f3d0>"
      ]
     },
     "metadata": {},
     "output_type": "display_data"
    }
   ],
   "source": [
    "#get relevances over MNIST examples\n",
    "rel_a2b1 = sess.run(LRPa2b1, feed_dict=inp_param)\n",
    "\n",
    "#titles for plots\n",
    "titles=[r\"$\\alpha_2\\beta_1$\"]\n",
    "            \n",
    "#plot relevances\n",
    "plotLRP([rel_a2b1], inp_param.get(x), titles)     "
   ]
  },
  {
   "cell_type": "markdown",
   "metadata": {},
   "source": [
    "# TODO: \n",
    "# -Test set by batches for getting accuracy\n",
    "# -TB"
   ]
  },
  {
   "cell_type": "code",
   "execution_count": null,
   "metadata": {},
   "outputs": [],
   "source": []
  }
 ],
 "metadata": {
  "kernelspec": {
   "display_name": "Python 3",
   "language": "python",
   "name": "python3"
  },
  "language_info": {
   "codemirror_mode": {
    "name": "ipython",
    "version": 3
   },
   "file_extension": ".py",
   "mimetype": "text/x-python",
   "name": "python",
   "nbconvert_exporter": "python",
   "pygments_lexer": "ipython3",
   "version": "3.5.2"
  }
 },
 "nbformat": 4,
 "nbformat_minor": 2
}
