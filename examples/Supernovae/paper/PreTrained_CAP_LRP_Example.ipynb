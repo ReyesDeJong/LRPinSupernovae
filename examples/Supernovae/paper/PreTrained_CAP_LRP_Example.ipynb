{
 "cells": [
  {
   "cell_type": "markdown",
   "metadata": {},
   "source": [
    "# LRP over CAP"
   ]
  },
  {
   "cell_type": "markdown",
   "metadata": {},
   "source": [
    "#### Imports"
   ]
  },
  {
   "cell_type": "code",
   "execution_count": 4,
   "metadata": {
    "collapsed": true
   },
   "outputs": [],
   "source": [
    "#python 2 and 3 comptibility\n",
    "from __future__ import absolute_import\n",
    "from __future__ import division\n",
    "from __future__ import print_function\n",
    "\n",
    "#enables acces to parent folder ()\n",
    "import os\n",
    "import sys\n",
    "sys.path.append(\"../../..\")\n",
    "\n",
    "#other imports\n",
    "import matplotlib.pyplot as plt\n",
    "import tensorflow as tf\n",
    "import numpy as np\n",
    "#varaible to add dummy dimension in a numpy array\n",
    "na = np.newaxis\n",
    "\n",
    "#modules import\n",
    "import modules.sequential32 as sequential32\n",
    "import modules.linear32 as linear32\n",
    "import modules.convolution32 as convolution32\n",
    "import modules.maxpool32 as maxpool32\n",
    "import modules.rotation as rotation\n",
    "import modules.avgCyclicPool2 as avgCyclicPool2\n",
    "\n",
    "\n",
    "#print of plots within notebook\n",
    "%matplotlib inline"
   ]
  },
  {
   "cell_type": "markdown",
   "metadata": {},
   "source": [
    "#### Parameters"
   ]
  },
  {
   "cell_type": "code",
   "execution_count": 5,
   "metadata": {
    "collapsed": true
   },
   "outputs": [],
   "source": [
    "#number of samples for every trainning iteration\n",
    "BATCH_SIZE = 5\n",
    "#path to *.tfrecord files (data) in your computer\n",
    "whole_data_path = '/home/tesla/Desktop/LRP/deep_hits_data/'\n",
    "#path to pretrained model params\n",
    "path='/home/tesla/Desktop/LRPbeta/Code_vFloat32_TB/weights/deephitsPoolMean/'"
   ]
  },
  {
   "cell_type": "markdown",
   "metadata": {},
   "source": [
    "#### Functions to acces data base\n",
    "\n",
    "To do this, you must have HiTS 2013 database in tfrecords format; train (1.2 million samples), validation (100k samples) and test (100k samples) set. You can finde them on __TODO__...."
   ]
  },
  {
   "cell_type": "code",
   "execution_count": 6,
   "metadata": {
    "collapsed": true
   },
   "outputs": [],
   "source": [
    "#funtion to get certain dataset tensor\n",
    "def get_dataset_tensor(dataset):\n",
    "    data_path = whole_data_path+dataset\n",
    "    feature = {'image_raw': tf.FixedLenFeature([], tf.string),\n",
    "               'label': tf.FixedLenFeature([], tf.int64),\n",
    "               'snr': tf.FixedLenFeature([], tf.string)}\n",
    "    # Create a list of filenames and pass it to a queue\n",
    "    filename_queue = tf.train.string_input_producer([data_path])\n",
    "    # Define a reader and read the next record\n",
    "    reader = tf.TFRecordReader()\n",
    "    _, serialized_example = reader.read(filename_queue)\n",
    "    # Decode the record read by the reader\n",
    "    features = tf.parse_single_example(serialized_example, features=feature)\n",
    "    # Convert the image data from string back to the numbers\n",
    "    image = tf.decode_raw(features['image_raw'], tf.float32)\n",
    "\n",
    "    # Cast label data into int32\n",
    "    label = tf.cast(features['label'], tf.int32)\n",
    "    \n",
    "    # Cast snr data into int32\n",
    "    snr = tf.decode_raw(features['snr'], tf.float64)\n",
    "    \n",
    "    # Reshape image data into the original shape\n",
    "    image = tf.reshape(image, [21, 21, 4])\n",
    "    \n",
    "    snr = tf.reshape(snr, [1])\n",
    "\n",
    "    # Any preprocessing here ...\n",
    "\n",
    "    # Creates batches by randomly shuffling tensors\n",
    "    images, labels, snrs= tf.train.batch([image, label, snr],\n",
    "                                    batch_size=BATCH_SIZE,\n",
    "                                    capacity=100000,\n",
    "                                    num_threads=1)\n",
    "    return images, labels, snrs\n",
    "\n",
    "def get_train_tensors():\n",
    "    return get_dataset_tensor('snr_train.tfrecord')\n",
    "\n",
    "\n",
    "def get_validation_tensors():\n",
    "    return get_dataset_tensor('snr_validation.tfrecord')\n",
    "\n",
    "\n",
    "def get_test_tensors():\n",
    "    return get_dataset_tensor('snr_test.tfrecord')"
   ]
  },
  {
   "cell_type": "markdown",
   "metadata": {},
   "source": [
    "#### Function to perform rotation\n",
    "Define function for rotate tensor in [0,90,180,270] degrees"
   ]
  },
  {
   "cell_type": "code",
   "execution_count": 7,
   "metadata": {
    "collapsed": true
   },
   "outputs": [],
   "source": [
    "\"\"\"\n",
    "given an image batch tensor as [batch_size,height,width,channels], \n",
    "generate 4 rotated versions in [0,90,180,270] degrees and concatenate them in batch dimension \n",
    "\n",
    "@param img_batch input tensor thath contains images\n",
    "@return a [4*batch_size,height,width,channels] version of img_batch\n",
    "\"\"\"\n",
    "def augment_with_rotations(img_batch):   \n",
    "    #perform rotations\n",
    "    images90 = tf.map_fn(lambda x: tf.image.rot90(x, k=1), img_batch)\n",
    "    images180 = tf.map_fn(lambda x: tf.image.rot90(x, k=2), img_batch)\n",
    "    images270 = tf.map_fn(lambda x: tf.image.rot90(x, k=3), img_batch)\n",
    "    \n",
    "    #concatenate along first tensor dimension (batch dimension)\n",
    "    return tf.concat([img_batch,\n",
    "                         images90,\n",
    "                         images180,\n",
    "                         images270], 0)"
   ]
  },
  {
   "cell_type": "markdown",
   "metadata": {},
   "source": [
    "#### Define network model\n",
    "\n",
    "Deep-HiTS model for LRP framework, exact same as in paper. It considers:\n",
    "\n",
    "1. Leaky-ReLU\n",
    "2. He weights initialization\n",
    "3. Biases initializated in 0.0\n",
    "4. Stretching layer after convolutions that concatenates features\n",
    "\n",
    "This consider a pretreined model. To be loaded, weights must be in a folder specified in variable 'path'."
   ]
  },
  {
   "cell_type": "code",
   "execution_count": 8,
   "metadata": {
    "collapsed": true
   },
   "outputs": [],
   "source": [
    "def nn():\n",
    "    return sequential32.Sequential([convolution32.Convolution(kernel_size=4,\n",
    "                                                              output_depth=32, \n",
    "                                                              input_depth=4,\n",
    "                                                              input_dim=27, act ='relu',\n",
    "                                                              stride_size=1, pad='VALID', param_dir=path+'CNN1'),\n",
    "                                    \n",
    "                       convolution32.Convolution(kernel_size=3, output_depth=32,\n",
    "                                                 stride_size=1, act ='relu',\n",
    "                                                 pad='SAME', param_dir=path+'CNN2'),\n",
    "                       \n",
    "                       maxpool32.MaxPool(),\n",
    "\n",
    "                       convolution32.Convolution(kernel_size=3, output_depth=64,\n",
    "                                                 stride_size=1, act ='relu',\n",
    "                                                 pad='SAME', param_dir=path+'CNN3'),\n",
    "                                    \n",
    "                       convolution32.Convolution(kernel_size=3, output_depth=64,\n",
    "                                                 stride_size=1, act ='relu',\n",
    "                                                 pad='SAME', param_dir=path+'CNN4'),\n",
    "                                    \n",
    "                       convolution32.Convolution(kernel_size=3, output_depth=64,\n",
    "                                                 stride_size=1, act ='relu',\n",
    "                                                 pad='SAME', param_dir=path+'CNN5'),\n",
    "                       maxpool32.MaxPool(),\n",
    "                       \n",
    "                       linear32.Linear(64, act ='relu', keep_prob=keep_prob, \n",
    "                                       use_dropout = True, param_dir=path+'FC1'),\n",
    "                                               \n",
    "                       linear32.Linear(64, act ='relu', keep_prob=keep_prob, \n",
    "                                       use_dropout = True, param_dir=path+'FC2'),\n",
    "                                    \n",
    "                       avgCyclicPool2.CyclicAvgPool(),\n",
    "                                    \n",
    "                       linear32.Linear(2, act ='linear', param_dir=path+'FC3')])"
   ]
  },
  {
   "cell_type": "markdown",
   "metadata": {},
   "source": [
    "#### Model I/O"
   ]
  },
  {
   "cell_type": "code",
   "execution_count": 9,
   "metadata": {},
   "outputs": [
    {
     "name": "stdout",
     "output_type": "stream",
     "text": [
      "Forward Pass ... \n",
      "------------------------------------------------- \n",
      "input:: [None, 27, 27, 4]\n",
      "conv2d_1:: [None, 24, 24, 32]\n",
      "conv2d_2:: [None, 24, 24, 32]\n",
      "maxpool_3:: [None, 12, 12, 32]\n",
      "conv2d_4:: [None, 12, 12, 64]\n",
      "conv2d_5:: [None, 12, 12, 64]\n",
      "conv2d_6:: [None, 12, 12, 64]\n",
      "maxpool_7:: [None, 6, 6, 64]\n",
      "linear_8:: [None, 64]\n",
      "linear_9:: [None, 64]\n",
      "avgpool_10:: [None, 64]\n",
      "linear_11:: [None, 2]\n",
      "softmax:: [None, 2]\n",
      "\n",
      "------------------------------------------------- \n"
     ]
    }
   ],
   "source": [
    "#Dropout placeholder\n",
    "keep_prob = tf.placeholder(tf.float32, name='keep-prob')\n",
    "\n",
    "#Input place holders and variables\n",
    "with tf.device('/cpu:0'):\n",
    "    #train tensors variables, run them to get dataset sample\n",
    "    images, labels, snr = get_train_tensors()\n",
    "    #validation tensors variables\n",
    "    validation_images, validation_labels, validation_snr = get_validation_tensors()\n",
    "    #test tensors variables\n",
    "    test_images, test_labels, test_snr = get_test_tensors()\n",
    "    \n",
    "    #place holder with default for input image, it enables to pass an specific tensor,\n",
    "    #or call 'images' to get a train tensor\n",
    "    images = tf.placeholder_with_default(images,\n",
    "                                         (None, 21, 21, 4),\n",
    "                                         'images_placeholder')\n",
    "    #place holder with default for input label, it enables to pass an specific label,\n",
    "    #or call 'labels' to get a train label\n",
    "    labels = tf.placeholder_with_default(labels,\n",
    "                                         None,\n",
    "                                         'labels_placeholder')\n",
    "    #label to one-hot\n",
    "    one_hot_labels = tf.one_hot(labels, 2, dtype=tf.float32)\n",
    "    #generate rotated images\n",
    "    augmented_input = augment_with_rotations(images)\n",
    "    #zero-pad images from 21x21 stamps to 27x27, to fit a 4x4 filter\n",
    "    padded_input = tf.pad(augmented_input,\n",
    "                          paddings=[\n",
    "                              [0, 0],\n",
    "                              [3, 3],\n",
    "                              [3, 3],\n",
    "                              [0, 0]])\n",
    "    \n",
    "    #input to model\n",
    "    inp=padded_input\n",
    "    #labels\n",
    "    y_=one_hot_labels\n",
    "\n",
    "#Model instance\n",
    "with tf.variable_scope('model'):\n",
    "        #instanciate model\n",
    "        net = nn()       \n",
    "        #feed-forward method and get score output. This iterates through layer in net object of class Sequiential\n",
    "        score = net.forward(inp)\n",
    "        #pass scores through softmax for network output ([0,1] probability)   \n",
    "        y = tf.nn.softmax(score)\n",
    "        #predicted classes\n",
    "        y_pred_cls = tf.argmax(y, 1)\n",
    "        #true classes\n",
    "        y_true_cls = tf.argmax(y_, 1)"
   ]
  },
  {
   "cell_type": "markdown",
   "metadata": {},
   "source": [
    "#### Accuracy measurement"
   ]
  },
  {
   "cell_type": "code",
   "execution_count": 10,
   "metadata": {
    "collapsed": true
   },
   "outputs": [],
   "source": [
    "with tf.name_scope('accuracy'):  \n",
    "        #compare predictions\n",
    "        with tf.name_scope('correct_prediction'):\n",
    "            correct_prediction = tf.equal(y_pred_cls, y_true_cls)\n",
    "        #get accuracy\n",
    "        with tf.name_scope('accuracy'):\n",
    "            accuracy = tf.reduce_mean(tf.cast(correct_prediction, tf.float32))"
   ]
  },
  {
   "cell_type": "markdown",
   "metadata": {},
   "source": [
    "#### Other performance measures\n",
    "Explicit metrics to build Table II of paper"
   ]
  },
  {
   "cell_type": "code",
   "execution_count": 11,
   "metadata": {
    "collapsed": true
   },
   "outputs": [],
   "source": [
    "with tf.name_scope('performance_measures'):\n",
    "    #confusion matrix values\n",
    "    with tf.name_scope('values'):\n",
    "        #true positives\n",
    "        TP = tf.count_nonzero((y_pred_cls * y_true_cls))\n",
    "        #true negative\n",
    "        TN = tf.count_nonzero((y_pred_cls - 1) * (y_true_cls- 1))\n",
    "        #false positives\n",
    "        FP = tf.count_nonzero(y_pred_cls * (y_true_cls - 1))\n",
    "        #false negatives\n",
    "        FN = tf.count_nonzero((y_pred_cls - 1) * y_true_cls)\n",
    "        \n",
    "    with tf.name_scope('accuracy_func'):\n",
    "            acc_mes = (TP+TN)/(TP+TN+FN+FP)\n",
    "        \n",
    "    with tf.name_scope('precision_func'):\n",
    "            prec_mes = TP/(TP+FP)\n",
    "            \n",
    "    with tf.name_scope('recall_func'):\n",
    "            rec_mes = TP/(TP+FN)      \n",
    "            \n",
    "    with tf.name_scope('f1_func'):\n",
    "            f1_mes = 2 * prec_mes * rec_mes / (prec_mes + rec_mes) "
   ]
  },
  {
   "cell_type": "markdown",
   "metadata": {},
   "source": [
    "#### Init Tensorflow session"
   ]
  },
  {
   "cell_type": "code",
   "execution_count": 12,
   "metadata": {
    "collapsed": true
   },
   "outputs": [],
   "source": [
    "config = tf.ConfigProto(allow_soft_placement = True)\n",
    "config.gpu_options.allow_growth = True\n",
    "sess = tf.Session(config=config)"
   ]
  },
  {
   "cell_type": "markdown",
   "metadata": {},
   "source": [
    "#### Init TensorBoard writers, Model variables and Tfrecords coordinators"
   ]
  },
  {
   "cell_type": "code",
   "execution_count": 13,
   "metadata": {
    "collapsed": true
   },
   "outputs": [],
   "source": [
    "#uncomment this only if you want to see models graph\n",
    "#train_writer = tf.summary.FileWriter(os.path.join(SUMMARY_DIR, 'train'), sess.graph)\n",
    "\n",
    "#initialization of model's variables\n",
    "init_op = tf.group(tf.global_variables_initializer(), tf.local_variables_initializer())\n",
    "sess.run(init_op)\n",
    "\n",
    "# Create a coordinator and run all QueueRunner objects for parallel loading of tfrecords\n",
    "coord = tf.train.Coordinator()\n",
    "threads = tf.train.start_queue_runners(sess=sess, coord=coord)"
   ]
  },
  {
   "cell_type": "markdown",
   "metadata": {},
   "source": [
    "#### Selection of class to be propagated\n",
    "In this section we consider that network's raw output scores (output right before softmax layer) is propagated with LRP.\n",
    "\n",
    "Whole output scores can be propagated, to see contribution from each class to the relevance heatmap at input, or just a single class output score can be propagated to know which input pixels are relevant to that class. This last option means to leave class score index value and every other value of the output score vector as 0. \n",
    "    \n",
    "Mainly, there are 3 LRP propagation options:\n",
    "1. Propagate full output score of the network which means that input heatmap will have negative and positive contributions from all classes \n",
    "2. Propagate predictied score, which will generate a heatmap with predicted class specific relevance. This means that the heatmap will depict which pixels are important for the classification made.\n",
    "3. When the model missclassifies you can propagate true class score, and heatmap genereted will show in blue which pixels lower the classification score to that output.\n",
    "\n",
    "Alternatively, softmax output can be LRP back propagated, but there is no consensus on what value should be propagated, a draw back of prapagating softmax is that negative score are turned to positive."
   ]
  },
  {
   "cell_type": "code",
   "execution_count": 14,
   "metadata": {
    "collapsed": true
   },
   "outputs": [],
   "source": [
    "with tf.variable_scope('output_relevance'):\n",
    "    \n",
    "        #mask for predicted classes LRP\n",
    "        y_pred_OH = tf.one_hot(indices=y_pred_cls, depth=2)\n",
    "        #model prediction output_relevance\n",
    "        y_rel_pred=score*y_pred_OH\n",
    "        \n",
    "        #true class output_relevance\n",
    "        y_rel_true=score*tf.to_float(y_true_cls)\n",
    "        \n",
    "        #with this variable we can choose to propagate predicted score as 'y_rel_pred',\n",
    "        #true class score as 'y_rel_true' or just the whole output score as 'score'\n",
    "        y_rel_model=y_rel_pred\n",
    "        \n",
    "        #To LRP backpropagate softmax aoutput, simply replace 'score' variable by 'y' "
   ]
  },
  {
   "cell_type": "markdown",
   "metadata": {},
   "source": [
    "### Set LRP parameters\n",
    "\n",
    "For more details on how to set this parameters, check 'PreTrained_MNIST_LRP_Example.npy' on MNIST folder"
   ]
  },
  {
   "cell_type": "code",
   "execution_count": 15,
   "metadata": {},
   "outputs": [
    {
     "name": "stdout",
     "output_type": "stream",
     "text": [
      "Computing LRP ... \n",
      "------------------------------------------------- \n",
      "linear_11:: [None, 64]\n",
      "avgpool_10:: [None, 64]\n",
      "linear_9:: [None, 64]\n",
      "linear_8:: [None, 2304]\n",
      "maxpool_7:: [None, 12, 12, 64]\n",
      "conv2d_6:: [None, 12, 12, 64]\n",
      "conv2d_5:: [None, 12, 12, 64]\n",
      "conv2d_4:: [None, 12, 12, 32]\n",
      "maxpool_3:: [None, 24, 24, 32]\n",
      "conv2d_2:: [None, 24, 24, 32]\n",
      "conv2d_1:: [None, 27, 27, 4]\n",
      "\n",
      "------------------------------------------------- \n"
     ]
    }
   ],
   "source": [
    "with tf.variable_scope('relevance'):\n",
    "\n",
    "    \n",
    "        #alpha-beta LRP\n",
    "        relevance_method_ab='alphabeta'\n",
    "\n",
    "        #alpha:1 - beta:0\n",
    "        relevance_param_a1b0 = 1\n",
    "        #alpha: 2 - beta:-1\n",
    "        relevance_param_a2b1 = 2\n",
    "        \n",
    "        #epsilon LRP\n",
    "        relevance_method_e='epsilon'\n",
    "        \n",
    "        #epsilon:1e-12\n",
    "        relevance_param_e012 = 1e-12\n",
    "        #epsilon:0.01\n",
    "        relevance_param_e01 = 0.01\n",
    "        #epsilon:1\n",
    "        relevance_param_e1 = 1\n",
    "        #epsilon:100\n",
    "        relevance_param_e100 = 100\n",
    "        \n",
    "        #choose propagation rule that will take place\n",
    "        #LRPa1b0 = net.lrp(y_rel_model, relevance_method_ab, relevance_param_a1b0)\n",
    "        LRPa2b1 = net.lrp(y_rel_model, relevance_method_ab, relevance_param_a2b1)\n",
    "        \n",
    "        #LRPe012 = net.lrp(y_rel_model, relevance_method_e, relevance_param_e012)\n",
    "        #LRPe01 = net.lrp(y_rel_model, relevance_method_e, relevance_param_e01)\n",
    "        #LRPe1 = net.lrp(y_rel_model, relevance_method_e, relevance_param_e1)\n",
    "        #LRPe100 = net.lrp(y_rel_model, relevance_method_e, relevance_param_e100)\n",
    "        \n",
    "        rel = LRPa2b1"
   ]
  },
  {
   "cell_type": "markdown",
   "metadata": {},
   "source": [
    "### Here we define some functions to plot different images as in paper"
   ]
  },
  {
   "cell_type": "code",
   "execution_count": 16,
   "metadata": {
    "collapsed": true
   },
   "outputs": [],
   "source": [
    "def unRotations(img_batch):\n",
    "    batch_size = tf.shape(img_batch)[0]/4\n",
    "    N, h, w, depth = img_batch.get_shape().as_list()\n",
    "    \n",
    "    img_reshape = tf.reshape(img_batch, [4, -1, h, w, depth])\n",
    "    \n",
    "    img_1 = img_reshape[0,...]\n",
    "    img_2 = tf.map_fn(lambda x: tf.image.rot90(x, k=4-1), img_reshape[1,...])\n",
    "    img_3 = tf.map_fn(lambda x: tf.image.rot90(x, k=4-2), img_reshape[2,...])\n",
    "    img_4 = tf.map_fn(lambda x: tf.image.rot90(x, k=4-3), img_reshape[3,...])\n",
    "    # Might be useful to modify parallel_iterations,\n",
    "    # back_prop and swap_memory params of tf.map_fn\n",
    "    #img_batch[batch_size:2*batch_size,...] = tf.map_fn(lambda x: tf.image.rot90(x, k=4-1), img_batch[batch_size:2*batch_size,...])\n",
    "    #img_batch = tf.map_fn(lambda x: tf.image.rot90(x, k=4-2), img_batch)\n",
    "    #img_batch = tf.map_fn(lambda x: tf.image.rot90(x, k=4-3), img_batch)\n",
    "\n",
    "    # TODO tf v1.0 has a different tf.concat call\n",
    "    return tf.concat([img_1,img_2,img_3,img_4], 0)\n",
    "    #return img_reshape\n",
    "    #return img_1, img_2\n",
    "\n",
    "unRot = unRotations(rel)\n",
    "\n",
    "def pool(img_batch):\n",
    "    N, h, w, depth = img_batch.get_shape().as_list()\n",
    "    \n",
    "    img_reshape = tf.reshape(img_batch, [4, -1, h, w, depth])\n",
    "    \n",
    "    #pooled_img = tf.nn.avg_pool3d(img_reshape,  [4,1,1,1,1], [4,1,1,1,1], 'SAME', name='rotational_pool')\n",
    "    # Pooling is not yet supported on the batch dimension.\n",
    "    \n",
    "    pooled_img = tf.reduce_mean(img_reshape, [0])\n",
    "    \n",
    "    return pooled_img\n",
    "\n"
   ]
  },
  {
   "cell_type": "code",
   "execution_count": 17,
   "metadata": {
    "collapsed": true
   },
   "outputs": [],
   "source": [
    "import matplotlib.cm\n",
    "\n",
    "\"\"\"\n",
    "input a HeightxWidthxChannels relevance image and normalize it using all values\n",
    "return Channels jet heatmaps as RGB images (Channels images HeightxWidthx3 = [Channels,Height,Width,3])\n",
    "\"\"\"\n",
    "def normalize_through_channels(r):\n",
    "    if len(r.shape)<3:\n",
    "        r = r[...,np.newaxis]\n",
    "    R=r[3:24,3:24,:]\n",
    "     \n",
    "    R = R / np.max(np.abs(R))\n",
    "     \n",
    "    R = (R + 1.)/2.\n",
    "    \n",
    "    cmap = eval('matplotlib.cm.{}'.format('jet'))\n",
    "    \n",
    "    result_list = []\n",
    "    for i in range(r.shape[-1]):\n",
    "        hm = R[...,i]\n",
    "        rgb = cmap(hm.flatten())[...,0:3].reshape([hm.shape[0],hm.shape[1],3])\n",
    "        result_list.append(rgb)\n",
    "        #plt.imshow(rgb)\n",
    "        #plt.show()\n",
    "    \n",
    "    return np.array(result_list)   \n",
    "\n",
    "\n",
    "def normalize_through_all(r):\n",
    "    if len(r.shape)<4:\n",
    "        r = r[...,np.newaxis]\n",
    "    R=r[:,3:24,3:24,:]\n",
    "     \n",
    "    R = R / np.max(np.abs(R))\n",
    "     \n",
    "    R = (R + 1.)/2.\n",
    "    \n",
    "    return R\n",
    "\n",
    "def plot_4_relevances(images, titles=None):\n",
    "    #fill titles with blanks\n",
    "    if titles==None:\n",
    "        titles = []\n",
    "        for i in range(4):\n",
    "            titles.append('')\n",
    "            \n",
    "    for i in range(4):\n",
    "        plt.subplot(1, 4, i+1)\n",
    "        plt.imshow(images[i,:,:,:], interpolation='nearest')\n",
    "        plt.axis('off')\n",
    "        plt.title(titles[i])\n",
    "    plt.show()\n",
    "        \n",
    "        \n",
    "def plot_input_image(images):\n",
    "    #fill titles with blanks\n",
    "    titles = ['Template', 'Science', 'Diff', 'SNR Diff']\n",
    "            \n",
    "    for i in range(4):\n",
    "        plt.subplot(1, 4, i+1)\n",
    "        plt.imshow(images[:,:,i], interpolation='nearest', cmap='gray')\n",
    "        plt.axis('off')\n",
    "        plt.title(titles[i])\n",
    "    plt.show()\n",
    "    \n",
    "def plot_and_norm_4_rel(relevance):\n",
    "    plot_4_relevances(normalize_through_channels(relevance))\n",
    "    \n",
    "def get_rel_channels_RGB(singleRel):\n",
    "    if len(singleRel.shape)<3:\n",
    "        singleRel = singleRel[...,np.newaxis]\n",
    "    cmap = eval('matplotlib.cm.{}'.format('jet'))\n",
    "    result_list = []\n",
    "    for i in range(singleRel.shape[-1]):\n",
    "        hm = singleRel[...,i]\n",
    "        rgb = cmap(hm.flatten())[...,0:3].reshape([hm.shape[0],hm.shape[1],3])\n",
    "        result_list.append(rgb)\n",
    "        #plt.imshow(rgb)\n",
    "        #plt.show()\n",
    "    \n",
    "    return np.array(result_list)\n",
    "\n",
    "#input relevances with rotations on batch\n",
    "def plot_and_norm_allRel(rel):\n",
    "    norm_rel = normalize_through_all(rel)\n",
    "    titles = [\"No Rotation\", \"90°\", \"180°\", \"270°\"]\n",
    "    for i in range(rel.shape[0]):\n",
    "        print(titles[i])\n",
    "        plot_4_relevances(get_rel_channels_RGB(norm_rel[i,...]))\n",
    "        \n",
    "def normalize_img(R):\n",
    "    R = R / np.max(np.abs(R))\n",
    "     \n",
    "    R = (R + 1.)/2.\n",
    "    \n",
    "    return R\n",
    "    \n",
    "def plot_final_relevance_by_index(imp_im, imp_lb, imp_snr, index, plot_mean=True,\n",
    "                        plot_rot_norm_all=True, plot_single_rot_norm=True):\n",
    "        \n",
    "        titles = [\"No Rotation\", \"90°\", \"180°\", \"270°\"]\n",
    "        labels_name = [\"bogus\", \"real\"]\n",
    "        \n",
    "        #get relevances\n",
    "        inp_dict = {images:imp_im[index,...][na,...], labels:imp_lb[index], keep_prob:1.0}\n",
    "        cyclic_unslicing, rot_pool, y_predicted = sess.run([rel, pool(unRot), y_pred_cls], feed_dict=inp_dict)\n",
    "         \n",
    "        #plot samples\n",
    "        print(\"Sample: %.0f - SNR: %.3f - Label: %s - Predicted: %s\" % (index, imp_snr[index],\n",
    "                                                                         labels_name[imp_lb[index]],\n",
    "                                                                            labels_name[int(y_predicted)]))\n",
    "        plot_input_image(imp_im[index,...])\n",
    "        #plot pooled relevances\n",
    "        if plot_mean:\n",
    "            print(\"---Mean Pool---\")\n",
    "            plot_and_norm_4_rel(rot_pool[0,...])\n",
    "        #plot rotations all normd together\n",
    "        if plot_rot_norm_all:\n",
    "            print(\"---All normed Together---\")\n",
    "            plot_and_norm_allRel(cyclic_unslicing)\n",
    "        #plot rotations normed by rot\n",
    "        if plot_single_rot_norm:\n",
    "            print(\"---Normed by Rotation---\")\n",
    "            for i in range(4):\n",
    "                print(titles[i])\n",
    "                plot_and_norm_4_rel(cyclic_unslicing[i,...])\n",
    "\n",
    "def plot_all_relevances(imp_im, imp_lb, imp_snr, index = None, plot_mean=True,\n",
    "                        plot_rot_norm_all=True, plot_single_rot_norm=True):\n",
    "    \n",
    "    if index!=None:\n",
    "        plot_final_relevance_by_index(imp_im, imp_lb, imp_snr, index, plot_mean,\n",
    "                        plot_rot_norm_all, plot_single_rot_norm)\n",
    "        \n",
    "    else:\n",
    "        for i in range(imp_im.shape[0]):\n",
    "            plot_final_relevance_by_index(imp_im, imp_lb, imp_snr, i, plot_mean,\n",
    "                        plot_rot_norm_all, plot_single_rot_norm)   "
   ]
  },
  {
   "cell_type": "markdown",
   "metadata": {},
   "source": [
    "### Get a sample batch to plot"
   ]
  },
  {
   "cell_type": "code",
   "execution_count": 18,
   "metadata": {
    "collapsed": true
   },
   "outputs": [],
   "source": [
    "images_array, labels_array, snr_array = sess.run((\n",
    "            test_images,\n",
    "            test_labels,\n",
    "            test_snr))"
   ]
  },
  {
   "cell_type": "markdown",
   "metadata": {},
   "source": [
    "# Plot batch examples"
   ]
  },
  {
   "cell_type": "code",
   "execution_count": 19,
   "metadata": {
    "scrolled": true
   },
   "outputs": [
    {
     "name": "stdout",
     "output_type": "stream",
     "text": [
      "Sample: 0 - SNR: 8.397 - Label: bogus - Predicted: bogus\n"
     ]
    },
    {
     "data": {
      "image/png": "[encoded data removed]",
      "text/plain": [
       "<matplotlib.figure.Figure at 0x7f4bac152f50>"
      ]
     },
     "metadata": {},
     "output_type": "display_data"
    },
    {
     "name": "stdout",
     "output_type": "stream",
     "text": [
      "---Mean Pool---\n"
     ]
    },
    {
     "data": {
      "image/png": "[encoded data removed]",
      "text/plain": [
       "<matplotlib.figure.Figure at 0x7f4b941b9390>"
      ]
     },
     "metadata": {},
     "output_type": "display_data"
    },
    {
     "name": "stdout",
     "output_type": "stream",
     "text": [
      "---All normed Together---\n",
      "No Rotation\n"
     ]
    },
    {
     "data": {
      "image/png": "[encoded data removed]",
      "text/plain": [
       "<matplotlib.figure.Figure at 0x7f4b9458aed0>"
      ]
     },
     "metadata": {},
     "output_type": "display_data"
    },
    {
     "name": "stdout",
     "output_type": "stream",
     "text": [
      "90°\n"
     ]
    },
    {
     "data": {
      "image/png": "[encoded data removed]",
      "text/plain": [
       "<matplotlib.figure.Figure at 0x7f4b94467ad0>"
      ]
     },
     "metadata": {},
     "output_type": "display_data"
    },
    {
     "name": "stdout",
     "output_type": "stream",
     "text": [
      "180°\n"
     ]
    },
    {
     "data": {
      "image/png": "[encoded data removed]",
      "text/plain": [
       "<matplotlib.figure.Figure at 0x7f4b94333090>"
      ]
     },
     "metadata": {},
     "output_type": "display_data"
    },
    {
     "name": "stdout",
     "output_type": "stream",
     "text": [
      "270°\n"
     ]
    },
    {
     "data": {
      "image/png": "[encoded data removed]",
      "text/plain": [
       "<matplotlib.figure.Figure at 0x7f4b940cfd50>"
      ]
     },
     "metadata": {},
     "output_type": "display_data"
    },
    {
     "name": "stdout",
     "output_type": "stream",
     "text": [
      "Sample: 1 - SNR: -8.254 - Label: bogus - Predicted: bogus\n"
     ]
    },
    {
     "data": {
      "image/png": "[encoded data removed]",
      "text/plain": [
       "<matplotlib.figure.Figure at 0x7f4b487f0e50>"
      ]
     },
     "metadata": {},
     "output_type": "display_data"
    },
    {
     "name": "stdout",
     "output_type": "stream",
     "text": [
      "---Mean Pool---\n"
     ]
    },
    {
     "data": {
      "image/png": "[encoded data removed]",
      "text/plain": [
       "<matplotlib.figure.Figure at 0x7f4b486ebf10>"
      ]
     },
     "metadata": {},
     "output_type": "display_data"
    },
    {
     "name": "stdout",
     "output_type": "stream",
     "text": [
      "---All normed Together---\n",
      "No Rotation\n"
     ]
    },
    {
     "data": {
      "image/png": "[encoded data removed]",
      "text/plain": [
       "<matplotlib.figure.Figure at 0x7f4b4843c7d0>"
      ]
     },
     "metadata": {},
     "output_type": "display_data"
    },
    {
     "name": "stdout",
     "output_type": "stream",
     "text": [
      "90°\n"
     ]
    },
    {
     "data": {
      "image/png": "[encoded data removed]",
      "text/plain": [
       "<matplotlib.figure.Figure at 0x7f4b48323290>"
      ]
     },
     "metadata": {},
     "output_type": "display_data"
    },
    {
     "name": "stdout",
     "output_type": "stream",
     "text": [
      "180°\n"
     ]
    },
    {
     "data": {
      "image/png": "[encoded data removed]",
      "text/plain": [
       "<matplotlib.figure.Figure at 0x7f4b48194910>"
      ]
     },
     "metadata": {},
     "output_type": "display_data"
    },
    {
     "name": "stdout",
     "output_type": "stream",
     "text": [
      "270°\n"
     ]
    },
    {
     "data": {
      "image/png": "[encoded data removed]",
      "text/plain": [
       "<matplotlib.figure.Figure at 0x7f4b48052890>"
      ]
     },
     "metadata": {},
     "output_type": "display_data"
    },
    {
     "name": "stdout",
     "output_type": "stream",
     "text": [
      "Sample: 2 - SNR: -13.205 - Label: bogus - Predicted: bogus\n"
     ]
    },
    {
     "data": {
      "image/png": "[encoded data removed]",
      "text/plain": [
       "<matplotlib.figure.Figure at 0x7f4bca6551d0>"
      ]
     },
     "metadata": {},
     "output_type": "display_data"
    },
    {
     "name": "stdout",
     "output_type": "stream",
     "text": [
      "---Mean Pool---\n"
     ]
    },
    {
     "data": {
      "image/png": "[encoded data removed]",
      "text/plain": [
       "<matplotlib.figure.Figure at 0x7f4b4803e950>"
      ]
     },
     "metadata": {},
     "output_type": "display_data"
    },
    {
     "name": "stdout",
     "output_type": "stream",
     "text": [
      "---All normed Together---\n",
      "No Rotation\n"
     ]
    },
    {
     "data": {
      "image/png": "[encoded data removed]",
      "text/plain": [
       "<matplotlib.figure.Figure at 0x7f4b486d5550>"
      ]
     },
     "metadata": {},
     "output_type": "display_data"
    },
    {
     "name": "stdout",
     "output_type": "stream",
     "text": [
      "90°\n"
     ]
    },
    {
     "data": {
      "image/png": "[encoded data removed]",
      "text/plain": [
       "<matplotlib.figure.Figure at 0x7f4b484181d0>"
      ]
     },
     "metadata": {},
     "output_type": "display_data"
    },
    {
     "name": "stdout",
     "output_type": "stream",
     "text": [
      "180°\n"
     ]
    },
    {
     "data": {
      "image/png": "[encoded data removed]",
      "text/plain": [
       "<matplotlib.figure.Figure at 0x7f4b9403dbd0>"
      ]
     },
     "metadata": {},
     "output_type": "display_data"
    },
    {
     "name": "stdout",
     "output_type": "stream",
     "text": [
      "270°\n"
     ]
    },
    {
     "data": {
      "image/png": "[encoded data removed]",
      "text/plain": [
       "<matplotlib.figure.Figure at 0x7f4b48739510>"
      ]
     },
     "metadata": {},
     "output_type": "display_data"
    },
    {
     "name": "stdout",
     "output_type": "stream",
     "text": [
      "Sample: 3 - SNR: 48.077 - Label: real - Predicted: real\n"
     ]
    },
    {
     "data": {
      "image/png": "[encoded data removed]",
      "text/plain": [
       "<matplotlib.figure.Figure at 0x7f4b48073910>"
      ]
     },
     "metadata": {},
     "output_type": "display_data"
    },
    {
     "name": "stdout",
     "output_type": "stream",
     "text": [
      "---Mean Pool---\n"
     ]
    },
    {
     "data": {
      "image/png": "[encoded data removed]",
      "text/plain": [
       "<matplotlib.figure.Figure at 0x7f4b942efb90>"
      ]
     },
     "metadata": {},
     "output_type": "display_data"
    },
    {
     "name": "stdout",
     "output_type": "stream",
     "text": [
      "---All normed Together---\n",
      "No Rotation\n"
     ]
    },
    {
     "data": {
      "image/png": "[encoded data removed]",
      "text/plain": [
       "<matplotlib.figure.Figure at 0x7f4b943b76d0>"
      ]
     },
     "metadata": {},
     "output_type": "display_data"
    },
    {
     "name": "stdout",
     "output_type": "stream",
     "text": [
      "90°\n"
     ]
    },
    {
     "data": {
      "image/png": "[encoded data removed]",
      "text/plain": [
       "<matplotlib.figure.Figure at 0x7f4b484f5d10>"
      ]
     },
     "metadata": {},
     "output_type": "display_data"
    },
    {
     "name": "stdout",
     "output_type": "stream",
     "text": [
      "180°\n"
     ]
    },
    {
     "data": {
      "image/png": "[encoded data removed]",
      "text/plain": [
       "<matplotlib.figure.Figure at 0x7f4b483767d0>"
      ]
     },
     "metadata": {},
     "output_type": "display_data"
    },
    {
     "name": "stdout",
     "output_type": "stream",
     "text": [
      "270°\n"
     ]
    },
    {
     "data": {
      "image/png": "[encoded data removed]",
      "text/plain": [
       "<matplotlib.figure.Figure at 0x7f4b484a1c10>"
      ]
     },
     "metadata": {},
     "output_type": "display_data"
    },
    {
     "name": "stdout",
     "output_type": "stream",
     "text": [
      "Sample: 4 - SNR: 22.494 - Label: real - Predicted: real\n"
     ]
    },
    {
     "data": {
      "image/png": "[encoded data removed]",
      "text/plain": [
       "<matplotlib.figure.Figure at 0x7f4b481d9410>"
      ]
     },
     "metadata": {},
     "output_type": "display_data"
    },
    {
     "name": "stdout",
     "output_type": "stream",
     "text": [
      "---Mean Pool---\n"
     ]
    },
    {
     "data": {
      "image/png": "[encoded data removed]",
      "text/plain": [
       "<matplotlib.figure.Figure at 0x7f4b2830c890>"
      ]
     },
     "metadata": {},
     "output_type": "display_data"
    },
    {
     "name": "stdout",
     "output_type": "stream",
     "text": [
      "---All normed Together---\n",
      "No Rotation\n"
     ]
    },
    {
     "data": {
      "image/png": "[encoded data removed]",
      "text/plain": [
       "<matplotlib.figure.Figure at 0x7f4b281054d0>"
      ]
     },
     "metadata": {},
     "output_type": "display_data"
    },
    {
     "name": "stdout",
     "output_type": "stream",
     "text": [
      "90°\n"
     ]
    },
    {
     "data": {
      "image/png": "[encoded data removed]",
      "text/plain": [
       "<matplotlib.figure.Figure at 0x7f4b284f0250>"
      ]
     },
     "metadata": {},
     "output_type": "display_data"
    },
    {
     "name": "stdout",
     "output_type": "stream",
     "text": [
      "180°\n"
     ]
    },
    {
     "data": {
      "image/png": "[encoded data removed]",
      "text/plain": [
       "<matplotlib.figure.Figure at 0x7f4b9c213a50>"
      ]
     },
     "metadata": {},
     "output_type": "display_data"
    },
    {
     "name": "stdout",
     "output_type": "stream",
     "text": [
      "270°\n"
     ]
    },
    {
     "data": {
      "image/png": "[encoded data removed]",
      "text/plain": [
       "<matplotlib.figure.Figure at 0x7f4b285affd0>"
      ]
     },
     "metadata": {},
     "output_type": "display_data"
    }
   ],
   "source": [
    "plot_all_relevances(images_array, labels_array, snr_array, plot_mean=True,\n",
    "                        plot_rot_norm_all=True, plot_single_rot_norm=False)"
   ]
  },
  {
   "cell_type": "markdown",
   "metadata": {},
   "source": [
    "# Plot specific sample from batch"
   ]
  },
  {
   "cell_type": "code",
   "execution_count": 20,
   "metadata": {},
   "outputs": [
    {
     "name": "stdout",
     "output_type": "stream",
     "text": [
      "Sample: 2 - SNR: -13.205 - Label: bogus - Predicted: bogus\n"
     ]
    },
    {
     "data": {
      "image/png": "[encoded data removed]",
      "text/plain": [
       "<matplotlib.figure.Figure at 0x7f4b283a22d0>"
      ]
     },
     "metadata": {},
     "output_type": "display_data"
    },
    {
     "name": "stdout",
     "output_type": "stream",
     "text": [
      "---Mean Pool---\n"
     ]
    },
    {
     "data": {
      "image/png": "[encoded data removed]",
      "text/plain": [
       "<matplotlib.figure.Figure at 0x7f4b286c9610>"
      ]
     },
     "metadata": {},
     "output_type": "display_data"
    },
    {
     "name": "stdout",
     "output_type": "stream",
     "text": [
      "---All normed Together---\n",
      "No Rotation\n"
     ]
    },
    {
     "data": {
      "image/png": "[encoded data removed]",
      "text/plain": [
       "<matplotlib.figure.Figure at 0x7f4b48776850>"
      ]
     },
     "metadata": {},
     "output_type": "display_data"
    },
    {
     "name": "stdout",
     "output_type": "stream",
     "text": [
      "90°\n"
     ]
    },
    {
     "data": {
      "image/png": "[encoded data removed]",
      "text/plain": [
       "<matplotlib.figure.Figure at 0x7f4b9458be10>"
      ]
     },
     "metadata": {},
     "output_type": "display_data"
    },
    {
     "name": "stdout",
     "output_type": "stream",
     "text": [
      "180°\n"
     ]
    },
    {
     "data": {
      "image/png": "[encoded data removed]",
      "text/plain": [
       "<matplotlib.figure.Figure at 0x7f4b2849bd90>"
      ]
     },
     "metadata": {},
     "output_type": "display_data"
    },
    {
     "name": "stdout",
     "output_type": "stream",
     "text": [
      "270°\n"
     ]
    },
    {
     "data": {
      "image/png": "[encoded data removed]",
      "text/plain": [
       "<matplotlib.figure.Figure at 0x7f4b940a2890>"
      ]
     },
     "metadata": {},
     "output_type": "display_data"
    }
   ],
   "source": [
    "plot_all_relevances(images_array, labels_array, snr_array, index = 2, plot_mean=True,\n",
    "                        plot_rot_norm_all=True, plot_single_rot_norm=False)"
   ]
  },
  {
   "cell_type": "code",
   "execution_count": null,
   "metadata": {
    "collapsed": true
   },
   "outputs": [],
   "source": []
  }
 ],
 "metadata": {
  "kernelspec": {
   "display_name": "Python 3",
   "language": "python",
   "name": "python3"
  },
  "language_info": {
   "codemirror_mode": {
    "name": "ipython",
    "version": 3
   },
   "file_extension": ".py",
   "mimetype": "text/x-python",
   "name": "python",
   "nbconvert_exporter": "python",
   "pygments_lexer": "ipython3",
   "version": "3.5.3"
  }
 },
 "nbformat": 4,
 "nbformat_minor": 2
}
